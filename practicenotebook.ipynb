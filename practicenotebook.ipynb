{
 "cells": [
  {
   "cell_type": "markdown",
   "metadata": {},
   "source": [
    "# Odd Even Linked List\n",
    "\n",
    "Given a singly linked list, group all odd nodes together followed by the even nodes. Please note here we are talking about the node number and not the value in the nodes.\n",
    "\n",
    "You should try to do it in place. The program should run in O(1) space complexity and O(nodes) time complexity.\n",
    "\n",
    "Example:\n",
    "Given 1->2->3->4->5->NULL,\n",
    "return 1->3->5->2->4->NULL.\n",
    "\n",
    "Note:\n",
    "The relative order inside both the even and odd groups should remain as it was in the input. \n",
    "The first node is considered odd, the second node even and so on ..."
   ]
  },
  {
   "cell_type": "code",
   "execution_count": 28,
   "metadata": {},
   "outputs": [
    {
     "name": "stdout",
     "output_type": "stream",
     "text": [
      "even 0 1\n",
      "odd 1 2\n",
      "even 2 3\n",
      "now printing oddlist 2\n",
      "now printing oddlist 4\n",
      "now printing evenlist 1\n",
      "now printing evenlist 3\n",
      "now printing evenlist 5\n",
      "now printing evenlist 1\n",
      "now printing evenlist 3\n",
      "now printing evenlist 5\n",
      "now printing evenlist 2\n",
      "now printing evenlist 4\n",
      "in helper\n",
      "<__main__.ListNode object at 0x1118cc358>\n",
      "Expected result: 1, 3, 5, 2, 4\n",
      "Your result is 1, 3, 5, 2, 4\n"
     ]
    }
   ],
   "source": [
    "# constructor for a Node of singly linked list\n",
    "class ListNode:\n",
    "    def __init__(self, data):\n",
    "        self.data = data\n",
    "        self.next = None\n",
    "\n",
    "def oddEvenList_Helper(head):\n",
    "    # base case\n",
    "    if head.next is None:    \n",
    "        # if list has only one element\n",
    "        print(\"in helper\")\n",
    "        return head\n",
    "    else:\n",
    "        # if list has 2 or more\n",
    "        el, ol  = unzip_v1(head)\n",
    "        newhead = zipboth(el,ol)\n",
    "        print(\"in helper\")\n",
    "        print(newhead)\n",
    "        return newhead\n",
    "\n",
    "\n",
    "def unzip_v1(head):\n",
    "    eventracker = head\n",
    "    oddtracker  = head.next\n",
    "    listtracker = head.next.next\n",
    "    oddlist     = oddtracker\n",
    "    evenlist    = eventracker\n",
    "    count       = 0 \n",
    "    while listtracker:\n",
    "        if (count%2 ==0):\n",
    "            eventracker.next = listtracker\n",
    "            print(\"even\", count, eventracker.data)\n",
    "            listtracker = listtracker.next\n",
    "            eventracker = eventracker.next\n",
    "            eventracker.next = None\n",
    "            count +=1    \n",
    "        else:\n",
    "            oddtracker.next = listtracker           \n",
    "            print(\"odd\", count, oddtracker.data)\n",
    "            listtracker = listtracker.next\n",
    "            oddtracker = oddtracker.next\n",
    "            oddtracker.next = None\n",
    "            count +=1\n",
    "    \n",
    "    tracker = oddlist\n",
    "    while tracker:\n",
    "        print(\"now printing oddlist\", tracker.data)\n",
    "        tracker = tracker.next\n",
    "        \n",
    "    tracker = evenlist\n",
    "    while tracker:\n",
    "        print(\"now printing evenlist\", tracker.data)\n",
    "        tracker = tracker.next\n",
    "    \n",
    "    return evenlist, oddlist\n",
    "    \n",
    "def zipboth(evenlist,oddlist):\n",
    "    oddtracker = oddlist \n",
    "    tracker  = evenlist   \n",
    "    \n",
    "    # get all even behind odd\n",
    "    # go to the head of odd\n",
    "    while tracker.next: # Note the change from tracker to tracker.next\n",
    "        tracker = tracker.next\n",
    "    \n",
    "    # now oddtracker points to null; make it point to 1st element of even list\n",
    "    while oddtracker:\n",
    "        tracker.next = oddtracker # change from tracker to tracker.next\n",
    "        oddtracker   = oddtracker.next\n",
    "        tracker      = tracker.next\n",
    "        \n",
    "    tracker = evenlist\n",
    "    while tracker:\n",
    "        print(\"now printing evenlist\", tracker.data)\n",
    "        tracker = tracker.next\n",
    "    return evenlist\n",
    "    \n",
    "\n",
    "#DO NOT CHANGE THIS FUNCTION\n",
    "def oddEvenList(head):\n",
    "    return oddEvenList_Helper(head)\n",
    "\n",
    "\n",
    "#test case\n",
    "def main():\n",
    "    head = ListNode(1)\n",
    "    head.next = ListNode(2)\n",
    "    head.next.next = ListNode(3)\n",
    "    head.next.next.next = ListNode(4)\n",
    "    head.next.next.next.next = ListNode(5)\n",
    "    head =  oddEvenList(head)\n",
    "    print (\"Expected result: 1, 3, 5, 2, 4\")\n",
    "    #print (\"Your result is {}, {}, {}, {}, {}\".format(head.data, head.next.data, head.next.next.data), head.next.next.next.data, head.next.next.next.next.data))\n",
    "    print (\"Your result is {}, {}, {}, {}, {}\".format(head.data, head.next.data, head.next.next.data, head.next.next.next.data, head.next.next.next.next.data))\n",
    "\n",
    "\n",
    "if __name__ == \"__main__\":\n",
    "    main()"
   ]
  },
  {
   "cell_type": "markdown",
   "metadata": {},
   "source": [
    "# Depth of Binary tree\n",
    "\n",
    "Given a binary tree, find its maximum depth\n",
    "The maximum depth is the number of nodes along the longest path from the root node down to the farthest leaf node"
   ]
  },
  {
   "cell_type": "code",
   "execution_count": 17,
   "metadata": {},
   "outputs": [
    {
     "name": "stdout",
     "output_type": "stream",
     "text": [
      "Depth of tree is 3, and the expected result is 3\n"
     ]
    }
   ],
   "source": [
    "# Constructor to create a new node\n",
    "class Node:\n",
    "    def __init__(self, data):\n",
    "        self.data = data\n",
    "        self.left = None\n",
    "        self.right = None\n",
    "\n",
    "\n",
    "# I wrote this\n",
    "def depth_helper(node):\n",
    "    depth = 0\n",
    "    if node:\n",
    "        depth = 1 + max(depth_helper(node.left), depth_helper(node.right))\n",
    "    return depth\n",
    "\n",
    "#PLEASE DO NOT CHANGE THIS\n",
    "def find_max_depth(tree):\n",
    "\tdepth = depth_helper(tree)\n",
    "\treturn depth\n",
    "\n",
    "\n",
    "#test cases\n",
    "def main():\n",
    "    root = Node(1)\n",
    "    root.left = Node(2)\n",
    "    root.right = Node(3)\n",
    "    root.left.left = Node(4)\n",
    "    root.left.right = Node(5)\n",
    "    print (\"Depth of tree is %d, and the expected result is 3\" %(find_max_depth(root),))\n",
    "\n",
    "if __name__ == \"__main__\":\n",
    "    main()\n"
   ]
  },
  {
   "cell_type": "markdown",
   "metadata": {},
   "source": [
    "# Repeating Sequence\n",
    "Given a string check if it can be constructed by taking a substring of it and appending multiple copies of the substring together. You may assume the given string consists of lowercase English letters only and its length will not exceed 10000.\n",
    "\n",
    "Example 1:\n",
    "Input: \"abab\"\n",
    "Output: True\n",
    "Explanation: It's the substring \"ab\" twice.\n",
    "\n",
    "Example 2:\n",
    "Input: \"aba\"\n",
    "Output: False\n",
    "\n",
    "Example 3:\n",
    "Input: \"abcabcabcabc\"\n",
    "Output: True\n",
    "Explanation: It's the substring \"abc\" four times. (And the substring \"abcabc\" twice.)"
   ]
  },
  {
   "cell_type": "code",
   "execution_count": 36,
   "metadata": {},
   "outputs": [
    {
     "name": "stdout",
     "output_type": "stream",
     "text": [
      "Testing your code with TEST_CASE1, the expected output is True, your output is True\n",
      "Testing your code with TEST_CASE2, the expected output is False, your output is False\n",
      "Testing your code with TEST_CASE3, the expected output is True, your output is True\n"
     ]
    }
   ],
   "source": [
    "def is_substring_helper(data):\n",
    "    output = False\n",
    "    my_length = len(data)\n",
    "    if my_length == 1:\n",
    "        output = True # if string has only one element then return True\n",
    "    else:\n",
    "        first_element = data[0]\n",
    "        for i in range(1,my_length):\n",
    "            if data[i] == first_element:\n",
    "                if my_length%i == 0:\n",
    "                    output = matchFound(i, my_length, data)\n",
    "    return output\n",
    "\n",
    "def matchFound(k,n,string):\n",
    "    mystring = string[:k]\n",
    "    mystring = [mystring + mystring for j in range(int(n/k)-1)]\n",
    "    return string == mystring[0]\n",
    "            \n",
    "    \n",
    "#DO NOT CHANGE THIS FUNCTION\n",
    "def is_substring (string_input):\n",
    "\treturn is_substring_helper(string_input)\n",
    "\n",
    "\n",
    "#test case\n",
    "def main():\n",
    "    TEST_CASE1 = \"abab\"\n",
    "    TEST_CASE2 = \"aba\"\n",
    "    TEST_CASE3 = \"abcabcabcabc\"\n",
    "    \n",
    "    print (\"Testing your code with TEST_CASE1, the expected output is True, your output is {}\".format(is_substring(TEST_CASE1)))\n",
    "    print (\"Testing your code with TEST_CASE2, the expected output is False, your output is {}\".format(is_substring(TEST_CASE2)))\n",
    "    print (\"Testing your code with TEST_CASE3, the expected output is True, your output is {}\".format(is_substring(TEST_CASE3)))\n",
    "    \n",
    "if __name__ == \"__main__\":\n",
    "    main()\n",
    "\n",
    "\n"
   ]
  },
  {
   "cell_type": "markdown",
   "metadata": {},
   "source": [
    "# Find max profit\n",
    "\n",
    "Say you have an array for which the ith element is the price of a given stock on day i.\n",
    "If you were only permitted to complete at most one transaction (ie, buy one and sell one share of the stock), design an algorithm to find the maximum profit.\n",
    "\n",
    "\n",
    "Example 1:\n",
    "Input: [7, 1, 5, 3, 6, 4]\n",
    "Output: 5\n",
    "max. difference = 6-1 = 5 (not 7-1 = 6, as selling price needs to be larger than buying price)\n",
    "\n",
    "\n",
    "Example 2:\n",
    "Input: [7, 6, 4, 3, 1]\n",
    "Output: 0\n",
    "In this case, no transaction is done, i.e. max profit = 0."
   ]
  },
  {
   "cell_type": "code",
   "execution_count": 2,
   "metadata": {
    "collapsed": true
   },
   "outputs": [],
   "source": [
    "#YOUR CODE GOES HERE\n",
    "def max_profit_helper(price):\n",
    "        max_out = 0\n",
    "        return max_out\n",
    "\n",
    "\n",
    "##DON\"T CHANGE THIS\n",
    "def max_profit(price):\n",
    "    return max_profit_helper(price)"
   ]
  },
  {
   "cell_type": "markdown",
   "metadata": {},
   "source": [
    "# Merge two sorted linked lists\n",
    "Merge two sorted linked lists and return it as a new list. \n",
    "The new list should be made by splicing together the nodes of the first two lists.\n",
    "Source: https://leetcode.com/problems/merge-two-sorted-lists/#/description"
   ]
  },
  {
   "cell_type": "code",
   "execution_count": 3,
   "metadata": {},
   "outputs": [
    {
     "name": "stdout",
     "output_type": "stream",
     "text": [
      "merging [1,3,5] and [2,4,6]......\n",
      "expected result is [1,2,3,4,5,6]\n"
     ]
    },
    {
     "ename": "AttributeError",
     "evalue": "'list' object has no attribute 'val'",
     "output_type": "error",
     "traceback": [
      "\u001b[0;31m---------------------------------------------------------------------------\u001b[0m",
      "\u001b[0;31mAttributeError\u001b[0m                            Traceback (most recent call last)",
      "\u001b[0;32m<ipython-input-3-41d17697ae09>\u001b[0m in \u001b[0;36m<module>\u001b[0;34m()\u001b[0m\n\u001b[1;32m     49\u001b[0m \u001b[0;34m\u001b[0m\u001b[0m\n\u001b[1;32m     50\u001b[0m \u001b[0;32mif\u001b[0m \u001b[0m__name__\u001b[0m \u001b[0;34m==\u001b[0m \u001b[0;34m\"__main__\"\u001b[0m\u001b[0;34m:\u001b[0m\u001b[0;34m\u001b[0m\u001b[0m\n\u001b[0;32m---> 51\u001b[0;31m     \u001b[0mmain\u001b[0m\u001b[0;34m(\u001b[0m\u001b[0;34m)\u001b[0m\u001b[0;34m\u001b[0m\u001b[0m\n\u001b[0m",
      "\u001b[0;32m<ipython-input-3-41d17697ae09>\u001b[0m in \u001b[0;36mmain\u001b[0;34m()\u001b[0m\n\u001b[1;32m     46\u001b[0m     \u001b[0mprint\u001b[0m \u001b[0;34m(\u001b[0m\u001b[0;34m\"expected result is [1,2,3,4,5,6]\"\u001b[0m\u001b[0;34m)\u001b[0m\u001b[0;34m\u001b[0m\u001b[0m\n\u001b[1;32m     47\u001b[0m     \u001b[0mmysol\u001b[0m \u001b[0;34m=\u001b[0m \u001b[0mSolution\u001b[0m\u001b[0;34m(\u001b[0m\u001b[0;34m)\u001b[0m\u001b[0;34m\u001b[0m\u001b[0m\n\u001b[0;32m---> 48\u001b[0;31m     \u001b[0mprint\u001b[0m \u001b[0;34m(\u001b[0m\u001b[0;34m\"your output is {}\"\u001b[0m\u001b[0;34m.\u001b[0m\u001b[0mformat\u001b[0m\u001b[0;34m(\u001b[0m\u001b[0mmysol\u001b[0m\u001b[0;34m.\u001b[0m\u001b[0mmerge_two_list\u001b[0m\u001b[0;34m(\u001b[0m\u001b[0mlist1\u001b[0m\u001b[0;34m,\u001b[0m \u001b[0mlist2\u001b[0m\u001b[0;34m)\u001b[0m\u001b[0;34m)\u001b[0m\u001b[0;34m)\u001b[0m\u001b[0;34m\u001b[0m\u001b[0m\n\u001b[0m\u001b[1;32m     49\u001b[0m \u001b[0;34m\u001b[0m\u001b[0m\n\u001b[1;32m     50\u001b[0m \u001b[0;32mif\u001b[0m \u001b[0m__name__\u001b[0m \u001b[0;34m==\u001b[0m \u001b[0;34m\"__main__\"\u001b[0m\u001b[0;34m:\u001b[0m\u001b[0;34m\u001b[0m\u001b[0m\n",
      "\u001b[0;32m<ipython-input-3-41d17697ae09>\u001b[0m in \u001b[0;36mmerge_two_list\u001b[0;34m(self, l1, l2)\u001b[0m\n\u001b[1;32m     17\u001b[0m \u001b[0;34m\u001b[0m\u001b[0m\n\u001b[1;32m     18\u001b[0m         \u001b[0;32mwhile\u001b[0m\u001b[0;34m(\u001b[0m\u001b[0ml1\u001b[0m \u001b[0;32mand\u001b[0m \u001b[0ml2\u001b[0m\u001b[0;34m)\u001b[0m\u001b[0;34m:\u001b[0m\u001b[0;34m\u001b[0m\u001b[0m\n\u001b[0;32m---> 19\u001b[0;31m             \u001b[0;32mif\u001b[0m \u001b[0ml1\u001b[0m\u001b[0;34m.\u001b[0m\u001b[0mval\u001b[0m \u001b[0;34m<=\u001b[0m \u001b[0ml2\u001b[0m\u001b[0;34m.\u001b[0m\u001b[0mval\u001b[0m\u001b[0;34m:\u001b[0m\u001b[0;34m\u001b[0m\u001b[0m\n\u001b[0m\u001b[1;32m     20\u001b[0m                 \u001b[0mmytracker\u001b[0m\u001b[0;34m.\u001b[0m\u001b[0mnext\u001b[0m \u001b[0;34m=\u001b[0m \u001b[0ml1\u001b[0m\u001b[0;34m\u001b[0m\u001b[0m\n\u001b[1;32m     21\u001b[0m                 \u001b[0ml1\u001b[0m \u001b[0;34m=\u001b[0m \u001b[0ml1\u001b[0m\u001b[0;34m.\u001b[0m\u001b[0mnext\u001b[0m\u001b[0;34m\u001b[0m\u001b[0m\n",
      "\u001b[0;31mAttributeError\u001b[0m: 'list' object has no attribute 'val'"
     ]
    }
   ],
   "source": [
    "# Definition for singly-linked list.\n",
    "# class ListNode(object):\n",
    "#     def __init__(self, x):\n",
    "#         self.val = x\n",
    "#         self.next = None\n",
    "\n",
    "class Solution(object):\n",
    "    def mergeTwoLists(self, l1, l2):\n",
    "        \"\"\"\n",
    "        :type l1: ListNode\n",
    "        :type l2: ListNode\n",
    "        :rtype: ListNode\n",
    "        \"\"\"\n",
    "\n",
    "        mylist = ListNode(1) # some random initialization\n",
    "        mytracker = mylist\n",
    "        \n",
    "        while(l1 and l2):\n",
    "            if l1.val <= l2.val:\n",
    "                mytracker.next = l1\n",
    "                l1 = l1.next\n",
    "                mytracker = mytracker.next\n",
    "            else:\n",
    "                mytracker.next = l2\n",
    "                l2 = l2.next\n",
    "                mytracker = mytracker.next\n",
    "                \n",
    "        while(l1):\n",
    "            mytracker.next = l1\n",
    "            l1 = l1.next\n",
    "            mytracker = mytracker.next\n",
    "                \n",
    "        while(l2):\n",
    "            mytracker.next = l2\n",
    "            l2 = l2.next\n",
    "            mytracker = mytracker.next\n",
    "        \n",
    "        return mylist.next\n",
    "        "
   ]
  },
  {
   "cell_type": "markdown",
   "metadata": {},
   "source": [
    "# Array to tree\n",
    "Given an array where elements are sorted in ascending order, convert it to a height balanced BST.\n",
    "\n",
    "Source: https://leetcode.com/problems/convert-sorted-array-to-binary-search-tree/#/description"
   ]
  },
  {
   "cell_type": "code",
   "execution_count": 1,
   "metadata": {
    "collapsed": true
   },
   "outputs": [],
   "source": [
    "# Definition for a binary tree node.\n",
    "class TreeNode(object):\n",
    "     def __init__(self, x):\n",
    "         self.val = x\n",
    "         self.left = None\n",
    "         self.right = None\n",
    "\n",
    "class Solution(object):\n",
    "    def sortedlisttoBST(self, nums):\n",
    "        \"\"\"\n",
    "        :type nums: List[int]\n",
    "        :rtype: TreeNode\n",
    "        \"\"\"\n",
    "        list_len = len(nums)\n",
    "        \n",
    "        # Base case\n",
    "        if list_len == 0:\n",
    "            return None\n",
    "        if list_len == 1:\n",
    "            return TreeNode(nums[0])\n",
    "        \n",
    "        root       = TreeNode(nums[list_len/2])\n",
    "        root.left  = self.sortedlisttoBST(nums[:list_len/2])\n",
    "        root.right = self.sortedlisttoBST(nums[list_len/2+1:])\n",
    "        \n",
    "        return root"
   ]
  },
  {
   "cell_type": "markdown",
   "metadata": {
    "collapsed": true
   },
   "source": [
    "# Anagram checker\n",
    "Given two strings, check if the second one is an anagram of first.\n",
    "For example, \"Python\" and \"Typhon\" are anagrams of each other."
   ]
  },
  {
   "cell_type": "code",
   "execution_count": null,
   "metadata": {
    "collapsed": true
   },
   "outputs": [],
   "source": [
    "def anagramCheker(str1, str2):\n",
    "    list1 = list(str1)\n",
    "    list2 = list(str2)\n",
    "    list1 = list1.sort()\n",
    "    list2 = list2.sort()\n",
    "    \n",
    "    return (list1 == list2)\n",
    "\n",
    "\n",
    "def main():\n",
    "    # test cases\n",
    "    string_in   = 'python'\n",
    "    string_test = 'typhon'\n",
    "    res = anagramCheker(string_in, string_test)\n",
    "    print(res)\n",
    "\n",
    "if __name__ == \"__main__\":\n",
    "    main()\n",
    "    \n"
   ]
  },
  {
   "cell_type": "markdown",
   "metadata": {},
   "source": [
    "# Largest Number At Least Twice of Others\n",
    "In a given integer array nums, there is always exactly one largest element.\n",
    "Find whether the largest element in the array is at least twice as much as every other number in the array.\n",
    "If it is, return the index of the largest element, otherwise return -1.\n",
    "\n",
    "Example 1:\n",
    "Input: nums = [3, 6, 1, 0]\n",
    "Output: 1\n",
    "Explanation: 6 is the largest integer, and for every other number in the array x,\n",
    "6 is more than twice as big as x.  The index of value 6 is 1, so we return 1.\n",
    " \n",
    "Example 2:\n",
    "Input: nums = [1, 2, 3, 4]\n",
    "Output: -1\n",
    "Explanation: 4 isn't at least as big as twice the value of 3, so we return -1."
   ]
  },
  {
   "cell_type": "code",
   "execution_count": null,
   "metadata": {
    "collapsed": true
   },
   "outputs": [],
   "source": [
    "import numpy as np\n",
    "\n",
    "def dominantIndex(nums):\n",
    "        nums_array = np.array(nums)\n",
    "        print(nums_array)\n",
    "        \n",
    "        largest = 0\n",
    "        ind_largest = 0\n",
    "        nexttolargest = 0\n",
    "        for element in range(len(nums_array)):\n",
    "            \n",
    "            if nums_array[element] > largest:\n",
    "                nexttolargest = largest\n",
    "                largest       = nums_array[element]\n",
    "                ind_largest   = element\n",
    "            \n",
    "            elif nums_array[element] > nexttolargest:\n",
    "                nexttolargest = nums_array[element]\n",
    "                \n",
    "        if largest >= 2*nexttolargest:\n",
    "            return ind_largest\n",
    "        else:\n",
    "            return -1\n",
    "        \n",
    "\n",
    "def main():\n",
    "    # test cases\n",
    "    nums   = [0,0,0,1]\n",
    "    res = dominantIndex(nums)\n",
    "    print(res)\n",
    "\n",
    "if __name__ == \"__main__\":\n",
    "    main()"
   ]
  },
  {
   "cell_type": "code",
   "execution_count": null,
   "metadata": {
    "collapsed": true
   },
   "outputs": [],
   "source": []
  }
 ],
 "metadata": {
  "kernelspec": {
   "display_name": "Python 3",
   "language": "python",
   "name": "python3"
  },
  "language_info": {
   "codemirror_mode": {
    "name": "ipython",
    "version": 3
   },
   "file_extension": ".py",
   "mimetype": "text/x-python",
   "name": "python",
   "nbconvert_exporter": "python",
   "pygments_lexer": "ipython3",
   "version": "3.6.3"
  }
 },
 "nbformat": 4,
 "nbformat_minor": 2
}
